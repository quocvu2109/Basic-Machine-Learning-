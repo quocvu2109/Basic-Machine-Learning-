{
 "cells": [
  {
   "cell_type": "markdown",
   "id": "b716709a",
   "metadata": {
    "papermill": {
     "duration": 0.007458,
     "end_time": "2022-09-15T07:40:24.797630",
     "exception": false,
     "start_time": "2022-09-15T07:40:24.790172",
     "status": "completed"
    },
    "tags": []
   },
   "source": [
    "## INTRODUCTION\n",
    "A machine learning project begins by understanding the data. Before applying machine learning algorithms to our datasets, we have to understand, built and analyse the data as to get the final result.\n",
    "\n",
    "Following are the main steps:\n",
    "\n",
    "1) Understand and define the problem\n",
    "\n",
    "2) Pre-process the data\n",
    "\n",
    "3) Explore and Analyse the data\n",
    "\n",
    "4) Using the algorithms\n",
    "\n",
    "5) Predict the result\n",
    "\n",
    "To desmontrate for this, we are going to use the Iris dataset, one of the most famous datasets available for beginners to learn about Machine learning.\n",
    "\n",
    "### What is problems?\n",
    "This dataset consists of the features, include Sepal width, Sepal length, Petal width and Petal length of three species of  Iris flower — Versicolor, Setosa and Virginica. We will be predicting the classes of the flowers by training the model based on these features."
   ]
  },
  {
   "cell_type": "code",
   "execution_count": 1,
   "id": "0a3fd8ca",
   "metadata": {
    "_cell_guid": "b1076dfc-b9ad-4769-8c92-a6c4dae69d19",
    "_uuid": "8f2839f25d086af736a60e9eeb907d3b93b6e0e5",
    "execution": {
     "iopub.execute_input": "2022-09-15T07:40:24.808503Z",
     "iopub.status.busy": "2022-09-15T07:40:24.808060Z",
     "iopub.status.idle": "2022-09-15T07:40:25.920419Z",
     "shell.execute_reply": "2022-09-15T07:40:25.919524Z"
    },
    "papermill": {
     "duration": 1.120773,
     "end_time": "2022-09-15T07:40:25.923121",
     "exception": false,
     "start_time": "2022-09-15T07:40:24.802348",
     "status": "completed"
    },
    "tags": []
   },
   "outputs": [
    {
     "name": "stdout",
     "output_type": "stream",
     "text": [
      "['iris']\n"
     ]
    }
   ],
   "source": [
    "import numpy as np\n",
    "import pandas as pd\n",
    "import matplotlib.pyplot as plt\n",
    "import seaborn as sns\n",
    "\n",
    "import os\n",
    "print(os.listdir(\"../input/\"))"
   ]
  },
  {
   "cell_type": "markdown",
   "id": "ccc3788d",
   "metadata": {
    "papermill": {
     "duration": 0.00397,
     "end_time": "2022-09-15T07:40:25.931387",
     "exception": false,
     "start_time": "2022-09-15T07:40:25.927417",
     "status": "completed"
    },
    "tags": []
   },
   "source": [
    "### Understanding the data\n",
    "\n",
    "First, try to understand the basic desciption of the data."
   ]
  },
  {
   "cell_type": "code",
   "execution_count": 2,
   "id": "d2b04191",
   "metadata": {
    "execution": {
     "iopub.execute_input": "2022-09-15T07:40:25.941880Z",
     "iopub.status.busy": "2022-09-15T07:40:25.940821Z",
     "iopub.status.idle": "2022-09-15T07:40:25.977786Z",
     "shell.execute_reply": "2022-09-15T07:40:25.976486Z"
    },
    "papermill": {
     "duration": 0.044814,
     "end_time": "2022-09-15T07:40:25.980268",
     "exception": false,
     "start_time": "2022-09-15T07:40:25.935454",
     "status": "completed"
    },
    "tags": []
   },
   "outputs": [
    {
     "data": {
      "text/html": [
       "<div>\n",
       "<style scoped>\n",
       "    .dataframe tbody tr th:only-of-type {\n",
       "        vertical-align: middle;\n",
       "    }\n",
       "\n",
       "    .dataframe tbody tr th {\n",
       "        vertical-align: top;\n",
       "    }\n",
       "\n",
       "    .dataframe thead th {\n",
       "        text-align: right;\n",
       "    }\n",
       "</style>\n",
       "<table border=\"1\" class=\"dataframe\">\n",
       "  <thead>\n",
       "    <tr style=\"text-align: right;\">\n",
       "      <th></th>\n",
       "      <th>Id</th>\n",
       "      <th>SepalLengthCm</th>\n",
       "      <th>SepalWidthCm</th>\n",
       "      <th>PetalLengthCm</th>\n",
       "      <th>PetalWidthCm</th>\n",
       "      <th>Species</th>\n",
       "    </tr>\n",
       "  </thead>\n",
       "  <tbody>\n",
       "    <tr>\n",
       "      <th>0</th>\n",
       "      <td>1</td>\n",
       "      <td>5.1</td>\n",
       "      <td>3.5</td>\n",
       "      <td>1.4</td>\n",
       "      <td>0.2</td>\n",
       "      <td>Iris-setosa</td>\n",
       "    </tr>\n",
       "    <tr>\n",
       "      <th>1</th>\n",
       "      <td>2</td>\n",
       "      <td>4.9</td>\n",
       "      <td>3.0</td>\n",
       "      <td>1.4</td>\n",
       "      <td>0.2</td>\n",
       "      <td>Iris-setosa</td>\n",
       "    </tr>\n",
       "    <tr>\n",
       "      <th>2</th>\n",
       "      <td>3</td>\n",
       "      <td>4.7</td>\n",
       "      <td>3.2</td>\n",
       "      <td>1.3</td>\n",
       "      <td>0.2</td>\n",
       "      <td>Iris-setosa</td>\n",
       "    </tr>\n",
       "    <tr>\n",
       "      <th>3</th>\n",
       "      <td>4</td>\n",
       "      <td>4.6</td>\n",
       "      <td>3.1</td>\n",
       "      <td>1.5</td>\n",
       "      <td>0.2</td>\n",
       "      <td>Iris-setosa</td>\n",
       "    </tr>\n",
       "    <tr>\n",
       "      <th>4</th>\n",
       "      <td>5</td>\n",
       "      <td>5.0</td>\n",
       "      <td>3.6</td>\n",
       "      <td>1.4</td>\n",
       "      <td>0.2</td>\n",
       "      <td>Iris-setosa</td>\n",
       "    </tr>\n",
       "  </tbody>\n",
       "</table>\n",
       "</div>"
      ],
      "text/plain": [
       "   Id  SepalLengthCm  SepalWidthCm  PetalLengthCm  PetalWidthCm      Species\n",
       "0   1            5.1           3.5            1.4           0.2  Iris-setosa\n",
       "1   2            4.9           3.0            1.4           0.2  Iris-setosa\n",
       "2   3            4.7           3.2            1.3           0.2  Iris-setosa\n",
       "3   4            4.6           3.1            1.5           0.2  Iris-setosa\n",
       "4   5            5.0           3.6            1.4           0.2  Iris-setosa"
      ]
     },
     "execution_count": 2,
     "metadata": {},
     "output_type": "execute_result"
    }
   ],
   "source": [
    "dt_iris = pd.read_csv(\"../input/iris/Iris.csv\")\n",
    "dt_iris.head()"
   ]
  },
  {
   "cell_type": "code",
   "execution_count": 3,
   "id": "97f491a0",
   "metadata": {
    "execution": {
     "iopub.execute_input": "2022-09-15T07:40:25.990814Z",
     "iopub.status.busy": "2022-09-15T07:40:25.990400Z",
     "iopub.status.idle": "2022-09-15T07:40:26.015178Z",
     "shell.execute_reply": "2022-09-15T07:40:26.013945Z"
    },
    "papermill": {
     "duration": 0.033783,
     "end_time": "2022-09-15T07:40:26.018558",
     "exception": false,
     "start_time": "2022-09-15T07:40:25.984775",
     "status": "completed"
    },
    "tags": []
   },
   "outputs": [
    {
     "name": "stdout",
     "output_type": "stream",
     "text": [
      "<class 'pandas.core.frame.DataFrame'>\n",
      "RangeIndex: 150 entries, 0 to 149\n",
      "Data columns (total 6 columns):\n",
      " #   Column         Non-Null Count  Dtype  \n",
      "---  ------         --------------  -----  \n",
      " 0   Id             150 non-null    int64  \n",
      " 1   SepalLengthCm  150 non-null    float64\n",
      " 2   SepalWidthCm   150 non-null    float64\n",
      " 3   PetalLengthCm  150 non-null    float64\n",
      " 4   PetalWidthCm   150 non-null    float64\n",
      " 5   Species        150 non-null    object \n",
      "dtypes: float64(4), int64(1), object(1)\n",
      "memory usage: 7.2+ KB\n"
     ]
    }
   ],
   "source": [
    "dt_iris.info()"
   ]
  },
  {
   "cell_type": "code",
   "execution_count": 4,
   "id": "2608b747",
   "metadata": {
    "execution": {
     "iopub.execute_input": "2022-09-15T07:40:26.031039Z",
     "iopub.status.busy": "2022-09-15T07:40:26.028889Z",
     "iopub.status.idle": "2022-09-15T07:40:26.040224Z",
     "shell.execute_reply": "2022-09-15T07:40:26.039157Z"
    },
    "papermill": {
     "duration": 0.019628,
     "end_time": "2022-09-15T07:40:26.042712",
     "exception": false,
     "start_time": "2022-09-15T07:40:26.023084",
     "status": "completed"
    },
    "tags": []
   },
   "outputs": [
    {
     "data": {
      "text/plain": [
       "Iris-setosa        50\n",
       "Iris-versicolor    50\n",
       "Iris-virginica     50\n",
       "Name: Species, dtype: int64"
      ]
     },
     "execution_count": 4,
     "metadata": {},
     "output_type": "execute_result"
    }
   ],
   "source": [
    "dt_iris['Species'].value_counts()"
   ]
  },
  {
   "cell_type": "markdown",
   "id": "2c426a9b",
   "metadata": {
    "papermill": {
     "duration": 0.004402,
     "end_time": "2022-09-15T07:40:26.051771",
     "exception": false,
     "start_time": "2022-09-15T07:40:26.047369",
     "status": "completed"
    },
    "tags": []
   },
   "source": [
    "### Analysing the data visually\n",
    "\n",
    "At the outset, let using a boxplot , to get a visual view of the data. Box plot is a percentile-based graph, which divides the data into four quartiles of 25% each. This method is used in statistical analysis to understand various measures such as mean, median and deviation."
   ]
  },
  {
   "cell_type": "code",
   "execution_count": 5,
   "id": "061019e4",
   "metadata": {
    "execution": {
     "iopub.execute_input": "2022-09-15T07:40:26.063276Z",
     "iopub.status.busy": "2022-09-15T07:40:26.062233Z",
     "iopub.status.idle": "2022-09-15T07:40:26.979184Z",
     "shell.execute_reply": "2022-09-15T07:40:26.978014Z"
    },
    "papermill": {
     "duration": 0.925403,
     "end_time": "2022-09-15T07:40:26.981731",
     "exception": false,
     "start_time": "2022-09-15T07:40:26.056328",
     "status": "completed"
    },
    "tags": []
   },
   "outputs": [
    {
     "data": {
      "text/plain": [
       "<Figure size 432x288 with 0 Axes>"
      ]
     },
     "metadata": {},
     "output_type": "display_data"
    },
    {
     "data": {
      "image/png": "[encoded data removed]",
      "text/plain": [
       "<Figure size 864x576 with 4 Axes>"
      ]
     },
     "metadata": {
      "needs_background": "light"
     },
     "output_type": "display_data"
    }
   ],
   "source": [
    "plt.figure()\n",
    "dt_iris.drop('Id',axis = 1).boxplot(by=\"Species\", figsize=(12,8))\n",
    "plt.show()"
   ]
  },
  {
   "cell_type": "code",
   "execution_count": 6,
   "id": "25bae232",
   "metadata": {
    "execution": {
     "iopub.execute_input": "2022-09-15T07:40:26.994595Z",
     "iopub.status.busy": "2022-09-15T07:40:26.993909Z",
     "iopub.status.idle": "2022-09-15T07:40:27.812093Z",
     "shell.execute_reply": "2022-09-15T07:40:27.810765Z"
    },
    "papermill": {
     "duration": 0.828111,
     "end_time": "2022-09-15T07:40:27.815210",
     "exception": false,
     "start_time": "2022-09-15T07:40:26.987099",
     "status": "completed"
    },
    "tags": []
   },
   "outputs": [
    {
     "data": {
      "image/png": "[encoded data removed]",
      "text/plain": [
       "<Figure size 463.25x360 with 1 Axes>"
      ]
     },
     "metadata": {
      "needs_background": "light"
     },
     "output_type": "display_data"
    }
   ],
   "source": [
    "# Using lmplot: \n",
    "g = sns.lmplot(\n",
    "    data=dt_iris,\n",
    "    x=\"PetalLengthCm\", y=\"PetalWidthCm\", hue=\"Species\", markers = ['o','s','D'],\n",
    "    height = 5)"
   ]
  },
  {
   "cell_type": "markdown",
   "id": "a495100e",
   "metadata": {
    "papermill": {
     "duration": 0.008239,
     "end_time": "2022-09-15T07:40:27.832505",
     "exception": false,
     "start_time": "2022-09-15T07:40:27.824266",
     "status": "completed"
    },
    "tags": []
   },
   "source": [
    "### Splitting the data for training and testing\n",
    "\n",
    "Now we have understood what the dataset is about, we can start training a model based on the algorithms. We will be implementing some of the commonly used algorithms in machine learning. We use an available library called ‘train_test_split’ which divides this data set into a ratio of 70:30."
   ]
  },
  {
   "cell_type": "code",
   "execution_count": 7,
   "id": "bed9bb63",
   "metadata": {
    "execution": {
     "iopub.execute_input": "2022-09-15T07:40:27.849360Z",
     "iopub.status.busy": "2022-09-15T07:40:27.848266Z",
     "iopub.status.idle": "2022-09-15T07:40:28.047707Z",
     "shell.execute_reply": "2022-09-15T07:40:28.046901Z"
    },
    "papermill": {
     "duration": 0.209201,
     "end_time": "2022-09-15T07:40:28.050202",
     "exception": false,
     "start_time": "2022-09-15T07:40:27.841001",
     "status": "completed"
    },
    "tags": []
   },
   "outputs": [],
   "source": [
    "# Modeling with scikit learn\n",
    "from sklearn import metrics\n",
    "from sklearn.model_selection import train_test_split"
   ]
  },
  {
   "cell_type": "code",
   "execution_count": 8,
   "id": "c3d4ab5b",
   "metadata": {
    "execution": {
     "iopub.execute_input": "2022-09-15T07:40:28.063670Z",
     "iopub.status.busy": "2022-09-15T07:40:28.063078Z",
     "iopub.status.idle": "2022-09-15T07:40:28.072290Z",
     "shell.execute_reply": "2022-09-15T07:40:28.070957Z"
    },
    "papermill": {
     "duration": 0.018486,
     "end_time": "2022-09-15T07:40:28.074449",
     "exception": false,
     "start_time": "2022-09-15T07:40:28.055963",
     "status": "completed"
    },
    "tags": []
   },
   "outputs": [
    {
     "name": "stdout",
     "output_type": "stream",
     "text": [
      "(105, 4)\n",
      "(105,)\n",
      "(45, 4)\n",
      "(45,)\n"
     ]
    }
   ],
   "source": [
    "# We drop 'Id' column in dataset because it is not important\n",
    "X = dt_iris.drop(['Id','Species'], axis = 1)\n",
    "y = dt_iris['Species']\n",
    "# Splitting the dataset into the Training set and Test set (ratio 70:30)\n",
    "X_train, X_test, y_train, y_test = train_test_split(X, y, test_size=0.3, random_state=5)\n",
    "print(X_train.shape)\n",
    "print(y_train.shape)\n",
    "print(X_test.shape)\n",
    "print(y_test.shape)"
   ]
  },
  {
   "cell_type": "markdown",
   "id": "2d2af721",
   "metadata": {
    "papermill": {
     "duration": 0.005458,
     "end_time": "2022-09-15T07:40:28.085641",
     "exception": false,
     "start_time": "2022-09-15T07:40:28.080183",
     "status": "completed"
    },
    "tags": []
   },
   "source": [
    "### Training the model\n",
    "\n",
    "Using some of the commonly used algorithms for training our model, we will check how accurate every algorithm is. The algorithms are used for training:\n",
    "\n",
    "1) K – Nearest Neighbour (KNN)\n",
    "\n",
    "2) Logistic Regression\n",
    "\n",
    "We can start with the first algorithm K – Nearest Neighbour. "
   ]
  },
  {
   "cell_type": "code",
   "execution_count": 9,
   "id": "2f799feb",
   "metadata": {
    "execution": {
     "iopub.execute_input": "2022-09-15T07:40:28.101152Z",
     "iopub.status.busy": "2022-09-15T07:40:28.100765Z",
     "iopub.status.idle": "2022-09-15T07:40:28.542699Z",
     "shell.execute_reply": "2022-09-15T07:40:28.541343Z"
    },
    "papermill": {
     "duration": 0.452912,
     "end_time": "2022-09-15T07:40:28.545167",
     "exception": false,
     "start_time": "2022-09-15T07:40:28.092255",
     "status": "completed"
    },
    "tags": []
   },
   "outputs": [
    {
     "name": "stdout",
     "output_type": "stream",
     "text": [
      "[0.9333333333333333, 0.9333333333333333, 0.9555555555555556, 0.9555555555555556, 0.9555555555555556, 0.9777777777777777, 0.9777777777777777, 1.0, 0.9777777777777777, 0.9777777777777777, 0.9777777777777777, 1.0, 0.9777777777777777, 1.0, 1.0, 1.0, 1.0, 1.0, 1.0]\n"
     ]
    },
    {
     "data": {
      "image/png": "[encoded data removed]",
      "text/plain": [
       "<Figure size 432x288 with 1 Axes>"
      ]
     },
     "metadata": {
      "needs_background": "light"
     },
     "output_type": "display_data"
    }
   ],
   "source": [
    "# Experimenting with different n values\n",
    "from sklearn.neighbors import KNeighborsClassifier\n",
    "k_range = list(range(1, 20))\n",
    "scores = []\n",
    "for k in k_range:\n",
    "    knn = KNeighborsClassifier(n_neighbors = k)\n",
    "    knn.fit(X_train, y_train)\n",
    "    y_pred = knn.predict(X_test)\n",
    "    scores.append(metrics.accuracy_score(y_test, y_pred))\n",
    "print(scores)\n",
    "plt.plot(k_range, scores)\n",
    "plt.xlabel('Value of k for KNN')\n",
    "plt.ylabel('Accuracy Score')\n",
    "plt.title('Accuracy Scores for Values of k of K-Nearest Neighbors')\n",
    "plt.show()\n"
   ]
  },
  {
   "cell_type": "markdown",
   "id": "e4d4c391",
   "metadata": {
    "papermill": {
     "duration": 0.005896,
     "end_time": "2022-09-15T07:40:28.557493",
     "exception": false,
     "start_time": "2022-09-15T07:40:28.551597",
     "status": "completed"
    },
    "tags": []
   },
   "source": [
    "Next, we continue with Logistic Regression"
   ]
  },
  {
   "cell_type": "code",
   "execution_count": 10,
   "id": "666e833e",
   "metadata": {
    "execution": {
     "iopub.execute_input": "2022-09-15T07:40:28.571960Z",
     "iopub.status.busy": "2022-09-15T07:40:28.571535Z",
     "iopub.status.idle": "2022-09-15T07:40:28.612629Z",
     "shell.execute_reply": "2022-09-15T07:40:28.611382Z"
    },
    "papermill": {
     "duration": 0.051545,
     "end_time": "2022-09-15T07:40:28.615340",
     "exception": false,
     "start_time": "2022-09-15T07:40:28.563795",
     "status": "completed"
    },
    "tags": []
   },
   "outputs": [
    {
     "name": "stdout",
     "output_type": "stream",
     "text": [
      "Accuracy is 0.9777777777777777\n"
     ]
    }
   ],
   "source": [
    "from sklearn.linear_model import LogisticRegression\n",
    "logreg = LogisticRegression()\n",
    "logreg.fit(X_train, y_train)\n",
    "y_predlog = logreg.predict(X_test)\n",
    "score = metrics.accuracy_score(y_test, y_predlog)\n",
    "print('Accuracy is', score)"
   ]
  }
 ],
 "metadata": {
  "kernelspec": {
   "display_name": "Python 3",
   "language": "python",
   "name": "python3"
  },
  "language_info": {
   "codemirror_mode": {
    "name": "ipython",
    "version": 3
   },
   "file_extension": ".py",
   "mimetype": "text/x-python",
   "name": "python",
   "nbconvert_exporter": "python",
   "pygments_lexer": "ipython3",
   "version": "3.7.12"
  },
  "papermill": {
   "default_parameters": {},
   "duration": 13.696823,
   "end_time": "2022-09-15T07:40:29.344444",
   "environment_variables": {},
   "exception": null,
   "input_path": "__notebook__.ipynb",
   "output_path": "__notebook__.ipynb",
   "parameters": {},
   "start_time": "2022-09-15T07:40:15.647621",
   "version": "2.3.4"
  }
 },
 "nbformat": 4,
 "nbformat_minor": 5
}
